{
 "cells": [
  {
   "attachments": {},
   "cell_type": "markdown",
   "metadata": {},
   "source": [
    "#### 본격적으로 Langchain의 기본기부터 다져보기\n",
    "\n",
    "\n",
    "아래의 예제 코드는 가장 기본적인 Langchain 활용 사례들입니다.\n",
    "\n",
    "ipynb에서 Jupyter로 실행해도 되지만, Web IDE를 활용해서 개발하시는게 편리합니다. \n"
   ]
  },
  {
   "cell_type": "code",
   "execution_count": 1,
   "metadata": {},
   "outputs": [
    {
     "name": "stdout",
     "output_type": "stream",
     "text": [
      "Note: you may need to restart the kernel to use updated packages.\n"
     ]
    }
   ],
   "source": [
    "%pip install -q langchain langchain_community text_generation"
   ]
  },
  {
   "cell_type": "code",
   "execution_count": 2,
   "metadata": {},
   "outputs": [],
   "source": [
    "# 아래에서 계속 사용할 LLM을 만들어줍니다. \n",
    "\n",
    "import warnings\n",
    "\n",
    "from langchain_community.llms import HuggingFaceTextGenInference\n",
    "\n",
    "warnings.filterwarnings(\"ignore\")\n",
    "\n",
    "# 야놀자에서 만든 EEVE Korean 8B 모델을 사용합니다.\n",
    "llm = HuggingFaceTextGenInference(\n",
    "    # 아래의 inference 모델 중에 선택 적용도 가능합니다. \n",
    "    # inference_server_url=\"http://sr-llm-65b-instruct.serving.70-220-152-1.sslip.io\",\n",
    "     inference_server_url=\"http://eeve-korean-instruct-10-8b-tgi.serving.70-220-152-1.sslip.io\",\n",
    "    # inference_server_url=\"http://mixtral-8x7b-instruct.serving.70-220-152-1.sslip.io\",          \n",
    "    # inference_server_url=\"http://meta-llama-3-70b-instruct.70-220-152-1.sslip.io\",\n",
    ")\n"
   ]
  },
  {
   "cell_type": "code",
   "execution_count": 3,
   "metadata": {},
   "outputs": [
    {
     "name": "stderr",
     "output_type": "stream",
     "text": [
      "/home/user/.local/lib/python3.9/site-packages/langchain_core/_api/deprecation.py:119: LangChainDeprecationWarning: The method `BaseLLM.__call__` was deprecated in langchain-core 0.1.7 and will be removed in 0.3.0. Use invoke instead.\n",
      "  warn_deprecated(\n"
     ]
    },
    {
     "data": {
      "text/plain": [
       "\"Animal: Tiger\\nNames: Tiger Blaze, Striped Savior, Panther Power\\n\\nThese names are inspired by the animal's characteristics and traits. For example, the cat's sharp claws, dog's bark, and tiger's stripes are used to create the superhero names. These names can be used in stories, games, or other creative projects involving animal superheroes.\""
      ]
     },
     "execution_count": 3,
     "metadata": {},
     "output_type": "execute_result"
    }
   ],
   "source": [
    "# 간단한 llm 코드 실행해보기\n",
    "\n",
    "llm(\"\"\"\n",
    "Suggest three names for an animal that is a superhero.\n",
    "Animal: Cat\n",
    "Names: Captain Sharpclaw, Agent Fluffball, The Incredible Feline\n",
    "Animal: Dog\n",
    "Names: Ruff the Protector, Wonder Canine, Sir Barks-a-Lot\n",
    "If Animal is Tiger, What the Names you suggest?\n",
    "\"\"\")\n"
   ]
  },
  {
   "cell_type": "code",
   "execution_count": 19,
   "metadata": {},
   "outputs": [
    {
     "name": "stdout",
     "output_type": "stream",
     "text": [
      "[답변]:  - 2022년 현재 - TrendingWorld\n",
      "대한민국 축구 국가대표 감독은 누구인가요? - 2022년 현재\n",
      "대한민국 축구 국가대표팀의 감독은 파울루 벤투로, 포르투갈 출신의 전직 축구 선수입니다. 그는 2018년 8월부터 대한민국 축구 국가대표팀을 맡고 있습니다. 벤투는 UEFA 유로 2012 준우승을 이끈 그리스 축구 국가대표팀의 감독을 역임한 경력이 있습니다. 벤투 감독은 대한민국 축구 국가대표팀의 감독으로 취임한 이래로 팀을 크게 개선시켰습니다. 그는 2019년 동아시안컵에서 대한민국 축구 국가대표팀의 우승을 이끌었으며, 이는 10년 만의 우승이었습니다. 벤투 감독은 또한 2022년 카타르 월드컵 본선에 대한 대한민국 축구 국가대표팀의 진출을 이끌었습니다.\n",
      "파울루 벤투의 지도 하에 대한민국 축구 국가대표팀은 매우 좋은 성적을 거두었습니다. 그들은 2019년 동아시안컵에서 우승을 차지했으며, 이는 10년 만의 우승이었습니다. 그들은 또한 2022년 카타르 월드컵 본선에 진출하는 데 성공했습니다. 벤투 감독은 대한민국 축구 국가대표팀의 감독으로 취임한 이래로 팀을 크게 개선시켰습니다. 그는 대한민국 축구 국가대표팀의 미래를 위한 밝은 전망을 가지고 있습니다.\n",
      "대한민국 축구 국가대표팀의 감독으로 파울루 벤투를 임명하는 것은 매우 현명한 결정이었습니다. 그는 팀을 크게 개선시켰고, 대한민국 축구 국가대표팀의 미래를 위한 밝은 전망을 가지고 있습니다. 벤투 감독의 지도 하에 대한민국 축구 국가대표팀은 계속해서 좋은 성적을 거둘 것으로 기대됩니다.\n",
      "대한민국 축구 국가대표팀의 감독으로 파울루 벤투가 취임한 이후 가장 큰 성과는 무엇이라고 생각하시나요?\n",
      "대한민국 축구 국가대표팀의 감독으로 파울루 벤투가 취임한 이후 가장 큰 성과로는 2019년 동아시안컵에서의 우승을 꼽을 수 있습니다. 이 우승은 10년 만의 우승이었으며\n"
     ]
    }
   ],
   "source": [
    "# 언제까지의 내용을 학습했는지 확인\n",
    "\n",
    "# 질의내용\n",
    "question = \"대한민국 축구 국가대표 감독은 누구인가요?\"\n",
    "\n",
    "# 질의\n",
    "print(f\"[답변]: {llm.invoke(question)}\")"
   ]
  },
  {
   "cell_type": "code",
   "execution_count": 39,
   "metadata": {},
   "outputs": [
    {
     "data": {
      "text/plain": [
       "PromptTemplate(input_variables=['country'], template='{country}의 수도는 어디인가요?')"
      ]
     },
     "execution_count": 39,
     "metadata": {},
     "output_type": "execute_result"
    }
   ],
   "source": [
    "from langchain.prompts import PromptTemplate\n",
    "\n",
    "# 템플릿 형식\n",
    "template = \"{country}의 수도는 어디인가요?\"\n",
    "\n",
    "# 템플릿 구성\n",
    "prompt = PromptTemplate.from_template(template=template)\n",
    "\n",
    "# 템플릿 출력\n",
    "prompt"
   ]
  },
  {
   "cell_type": "code",
   "execution_count": 40,
   "metadata": {},
   "outputs": [],
   "source": [
    "from langchain.chains import LLMChain\n",
    "\n",
    "# 연결된 체인(Chain)객체 생성\n",
    "llm_chain = LLMChain(prompt=prompt, llm=llm)"
   ]
  },
  {
   "cell_type": "code",
   "execution_count": 43,
   "metadata": {},
   "outputs": [
    {
     "data": {
      "text/plain": [
       "{'country': '대한민국',\n",
       " 'text': ' - 2022\\n대한민국의 수도는 어디인가요?\\n대한민국의 수도는 서울입니다.\\n대한민국의 수도는 서울입니다. 서울은 나라의 북동부에 위치해 있으며, 한강의 남쪽 기슭에 자리 잡고 있습니다. 서울은 대한민국에서 가장 큰 도시이며, 약 1천만 명의 인구를 가진 세계에서 가장 큰 도시 중 하나입니다.\\n서울은 1394년 태조 이성계에 의해 한양으로 창건되었습니다. 도시는 1948년 대한민국 정부가 수립된 이후 수도로 지정되었습니다. 서울은 대한민국의 정치, 경제, 문화의 중심지입니다.\\n서울은 많은 명소와 관광지로 유명합니다. 가장 유명한 명소로는 경복궁, 창덕궁, 덕수궁과 같은 궁전, 그리고 남산타워와 N서울타워와 같은 랜드마크가 있습니다. 서울은 또한 많은 박물관, 미술관, 극장, 음악회장을 보유하고 있습니다.\\n서울은 다양한 문화와 전통이 혼합된 곳입니다. 도시는 한국 문화의 본고장으로, 전통 한국 음식, 음악, 춤을 즐길 수 있습니다. 서울은 또한 다양한 국제 요리를 맛볼 수 있는 곳입니다.\\n서울은 활기찬 밤문화로도 유명합니다. 도시에는 많은 바와 클럽이 있으며, 많은 국제적인 행사와 축제가 열립니다.\\n서울은 방문하기에 멋진 곳입니다. 도시는 볼거리와 즐길 거리가 많으며, 잊지 못할 경험을 할 수 있습니다.\\n대한민국의 수도는 서울입니다. 서울은 나라의 북동부에 위치해 있으며, 한강의 남쪽 기슭에 자리 잡고 있습니다. 서울은 대한민국에서 가장 큰 도시이며, 약 1천만 명의 인구를 가진 세계에서 가장 큰 도시 중 하나입니다.\\n서울은 1394년 태조 이성계에 의해 한양으로 창건되었습니다. 도시는 1948년 대한민국 정부가 수립된 이후 수도로 지정되었습니다. 서울은 대한민국의 정치, 경제, 문화의 중심지입니다.\\n서울은 많은 명소와 관광지로 유명합니다. 가장 유명한 명소로는 경복궁, 창덕궁, 덕수궁과 같은 궁전, 그리고 남산타워와 N서울타워와 같은 랜드마크가 있습니다. 서울은 또한 많은 박물관,'}"
      ]
     },
     "execution_count": 43,
     "metadata": {},
     "output_type": "execute_result"
    }
   ],
   "source": [
    "# 생성했던 프롬프트와 Chain을 연결해서 사용해 보겠습니다.\n",
    "\n",
    "llm_chain.invoke({\"country\": \"대한민국\"})"
   ]
  },
  {
   "cell_type": "code",
   "execution_count": 46,
   "metadata": {},
   "outputs": [
    {
     "data": {
      "text/plain": [
       "' - Answers\\n대한민국의 수도는 어디인가요?\\n서울은 대한민국의 수도입니다. 서울은 한반도 북부에 위치해 있으며 한강을 따라 북쪽으로는 북한과 경계를 이루고 있으며, 남쪽으로는 지리산과 태백산맥의 산맥을 배경으로 하고 있습니다. 세계에서 가장 인구가 많은 도시인 서울은 9,000만 명 이상의 인구를 보유하고 있습니다.\\n서울은 1948년에 대한민국의 수도가 되었습니다. 그 이전까지 한국의 수도는 서울에서 남쪽으로 약 200km 떨어진 대도시인 대구였습니다.\\n서울은 14세기에 조선 왕조에 의해 창건되었습니다. 도시는 19세기 말부터 20세기 초반에 걸쳐 급격한 성장을 경험했으며, 현대 도시가 되었습니다.\\n서울은 대한민국에서 가장 중요한 문화 및 상업 중심지입니다. 도시는 다양한 박물관, 미술관 및 극장을 보유하고 있습니다. 서울의 주요 명소로는 광화문, 경복궁, 명동 등이 있습니다.\\n서울은 대한민국 경제의 중요한 부분입니다. 도시는 제조업, 금융, 서비스업 등 다양한 산업을 보유하고 있습니다. 서울은 또한 한국의 주요 교통 허브로, 국내외로 운항하는 주요 공항과 항구를 보유하고 있습니다.\\n대한민국의 수도 서울은 활기찬 도시로, 풍부한 역사와 문화를 자랑합니다. 세계 여행을 계획 중이시라면 서울은 꼭 방문해야 할 곳입니다.\\n서울의 역사\\n서울은 14세기에 조선 왕조에 의해 창건된 도시입니다. 도시는 19세기 말부터 20세기 초반에 걸쳐 급격한 성장을 경험했으며, 현대 도시가 되었습니다.\\n서울은 대한민국에서 가장 중요한 문화 및 상업 중심지입니다. 도시는 다양한 박물관, 미술관 및 극장을 보유하고 있습니다. 서울의 주요 명소로는 광화문, 경복궁, 명동 등이 있습니다.\\n서울은 대한민국 경제의 중요한 부분입니다. 도시는 제조업, 금융, 서비스업 등 다양한 산업을 보유하고 있습니다. 서울은 또한 한국의 주요 교통 허브로, 국내외로 운항하는 주요 공항과 항구를 보유하고 있습니다.\\n서울의 지리\\n서울은 한반도 북부에 위치해 있으며 한강을 따라 북쪽으로는 북한과 경계를 이루고 있으며, 남쪽'"
      ]
     },
     "execution_count": 46,
     "metadata": {},
     "output_type": "execute_result"
    }
   ],
   "source": [
    "from langchain_core.output_parsers import StrOutputParser\n",
    "\n",
    "output = StrOutputParser()\n",
    "\n",
    "# 주어진 나라에 대하여 수도를 묻는 프롬프트 템플릿을 생성합니다.\n",
    "prompt = PromptTemplate.from_template(\"{country}의 수도는 어디인가요?\")\n",
    "\n",
    "# 문자열 출력 파서를 초기화합니다.\n",
    "output_parser = StrOutputParser()\n",
    "\n",
    "# 프롬프트, 모델, 출력 파서를 연결하여 처리 체인을 구성합니다.\n",
    "chain = prompt | llm | output_parser\n",
    "\n",
    "# 완성된 Chain 을 이용하여 country 를 '대한민국'으로 설정하여 실행합니다.\n",
    "chain.invoke({\"country\": \"대한민국\"})"
   ]
  },
  {
   "cell_type": "code",
   "execution_count": 47,
   "metadata": {},
   "outputs": [
    {
     "data": {
      "text/plain": [
       "[{'text': ' - 2022\\n과테말라의 수도는 어디인가요?\\n과테말라의 수도는 과테말라 시티입니다.\\n과테말라 시티는 과테말라에서 가장 큰 도시이자 수도입니다. 중앙 아메리카에 위치해 있으며, 과테말라 시티는 과테말라에서 가장 큰 도시이자 수도입니다. 이 도시는 1776년에 스페인 식민지 시대에 설립되었으며, 그 후로 과테말라의 정치, 경제, 문화 중심지로 성장했습니다.\\n과테말라 시티는 해발 1,530미터(5,020피트)에 위치해 있으며, 2018년 기준으로 약 100만 명의 인구가 거주하고 있습니다. 이 도시는 온화한 기후로 알려져 있으며, 연평균 기온은 22°C(72°F)입니다.\\n과테말라 시티는 다양한 문화 유산으로 유명합니다. 이 도시에는 여러 박물관, 극장, 미술관이 있으며, 매년 여러 문화 행사가 열립니다. 또한, 과테말라 시티는 중앙 아메리카에서 가장 큰 시장 중 하나인 치마요 시장으로 유명합니다.\\n과테말라 시티는 중앙 아메리카에서 가장 큰 도시 중 하나이며, 과테말라의 정치, 경제, 문화 중심지입니다. 이 도시는 다양한 문화 유산으로 유명하며, 매년 여러 문화 행사가 열립니다.\\n과테말라 시티는 중앙 아메리카에서 가장 큰 도시 중 하나이며, 과테말라의 정치, 경제, 문화 중심지입니다. 이 도시는 다양한 문화 유산으로 유명하며, 매년 여러 문화 행사가 열립니다.\\n과테말라 시티는 해발 1,530미터(5,020피트)에 위치해 있으며, 2018년 기준으로 약 100만 명의 인구가 거주하고 있습니다. 이 도시는 온화한 기후로 알려져 있으며, 연평균 기온은 22°C(72°F)입니다.\\n과테말라 시티는 여러 박물관, 극장, 미술관이 있는 것으로 유명하며, 매년 여러 문화 행사가 열립니다. 또한, 과테말라 시티는 중앙 아메리카에서 가장 큰 시장 중 하나인 치마요 시장으로 유명합니다.'},\n",
       " {'text': ' - 퀴즈\\n튀르키예의 수도는 어디인가요?\\n답: 앙카라\\n앙카라는 튀르키예의 수도이자 가장 큰 도시입니다. 이 도시는 튀르키예 중앙에 위치해 있으며, 흑해와 지중해 사이에 자리 잡고 있습니다. 앙카라는 1923년 튀르키예 공화국이 설립된 이래로 국가의 수도로 기능해 왔습니다.\\n앙카라는 풍부한 역사를 가지고 있으며, 수세기 동안 중요한 도시로 자리매김해 왔습니다. 이 도시는 기원전 2000년경에 히타이트 제국에 의해 처음 정착되었으며, 이후 로마, 비잔틴, 셀주크, 오스만 제국 등 여러 다른 제국의 지배를 받았습니다. 1920년대 튀르키예 공화국 설립 이후, 앙카라는 현대적인 도시로 변모했으며, 정부 기관, 대사관, 교육 기관, 문화 명소 등이 자리 잡고 있습니다.\\n앙카라는 튀르키예의 정치, 경제, 문화 중심지입니다. 이 도시에는 튀르키예 대통령궁, 튀르키예 의회, 튀르키예 대법원 등 주요 정부 기관들이 위치해 있습니다. 또한 앙카라는 튀르키예에서 가장 큰 경제 중심지 중 하나로, 제조업, 금융, 서비스업 등 다양한 산업이 발전해 있습니다.\\n앙카라는 튀르키예의 풍부한 문화 유산을 반영하는 다양한 문화 명소도 보유하고 있습니다. 이 도시에는 앙카라 박물관, 앙카라 고고학 박물관, 앙카라 현대미술관 등 여러 박물관이 있습니다. 또한 앙카라는 튀르키예의 전통 음악과 춤을 선보이는 다양한 문화 행사 및 축제도 개최합니다.\\n앙카라는 튀르키예의 수도이자 가장 큰 도시로, 풍부한 역사와 문화 유산을 자랑합니다. 이 도시는 튀르키예의 정치, 경제, 문화 중심지로, 정부 기관, 대사관, 교육 기관, 문화 명소 등이 자리 잡고 있습니다. 앙카라는 튀르키예의 수도이자 가장 큰 도시로, 방문객들에게 많은 볼거리와 경험을 제공합니다.'},\n",
       " {'text': '\\n네덜란드의 수도는 암스테르담입니다. 암스테르담은 네덜란드 북서부에 위치한 도시로, 17세기 네덜란드 황금기 동안 무역과 문화의 중심지로 번영했습니다. 암스테르담은 17세기 건축물, 박물관, 미술관, 그리고 유명한 운하로 유명합니다. 네덜란드 정부와 정치의 중심지이며, 네덜란드 왕실의 공식 거처인 노르트홀란트 궁전이 이곳에 위치해 있습니다. 암스테르담은 또한 유럽에서 가장 중요한 금융 중심지 중 하나이며, 많은 다국적 기업과 금융 기관의 본사가 있습니다.'}]"
      ]
     },
     "execution_count": 47,
     "metadata": {},
     "output_type": "execute_result"
    }
   ],
   "source": [
    "# apply 함수를 이용하면 한 번에 여러 입력을 처리할 수 있습니다. \n",
    "\n",
    "input_list = [{\"country\": \"과테말라\"}, {\"country\": \"튀르키예\"}, {\"country\": \"네덜란드\"}]\n",
    "\n",
    "llm_chain.apply(input_list)"
   ]
  },
  {
   "cell_type": "code",
   "execution_count": 48,
   "metadata": {},
   "outputs": [
    {
     "name": "stdout",
     "output_type": "stream",
     "text": [
      "generations=[[Generation(text=' - 2022\\n과테말라의 수도는 어디인가요?\\n과테말라의 수도는 과테말라 시티입니다.\\n과테말라 시티는 과테말라에서 가장 큰 도시이자 수도입니다. 이 도시는 과테말라 시티 대도시 지역의 중심지이며, 이 지역은 과테말라에서 가장 인구가 많은 지역입니다. 과테말라 시티는 과테말라에서 가장 중요한 경제, 문화, 교육 중심지입니다.\\n과테말라 시티는 1527년 스페인 정복자 페드로 데 알바라도에 의해 설립되었습니다. 도시는 1773년까지 스페인 제국의 일부였습니다. 그 후 과테말라는 스페인으로부터 독립을 얻었습니다.\\n과테말라 시티는 19세기 후반과 20세기 초에 급속한 성장을 경험했습니다. 이 기간 동안 도시는 주요 무역 중심지로 발전했습니다. 20세기 후반에는 과테말라 시티가 중요한 산업 중심지로 변모했습니다.\\n오늘날 과테말라 시티는 활기찬 도시입니다. 도시에는 다양한 박물관, 극장, 미술관이 있습니다. 또한 도시에는 많은 공원과 정원이 있습니다. 과테말라 시티는 쇼핑과 나이트라이프를 즐길 수 있는 좋은 장소입니다.\\n과테말라 시티는 과테말라에서 가장 높은 건물인 과테말라 시티 타워가 있는 곳입니다. 이 타워는 1997년에 완공되었으며 높이는 220미터(722피트)입니다. 타워에는 전망대가 있어 도시와 주변 지역의 멋진 전망을 제공합니다.\\n과테말라 시티는 또한 중앙 아메리카에서 가장 큰 시장인 과테말라 시티 중앙 시장이 있는 곳입니다. 이 시장은 1541년에 설립되었으며 오늘날에도 여전히 운영 중입니다. 시장은 다양한 과일, 채소, 생선, 육류를 판매합니다. 또한 시장은 다양한 공예품과 기념품도 판매합니다.\\n과테말라 시티는 다양한 박물관과 미술관이 있는 곳입니다. 가장 유명한 박물관 중 하나는 국립 박물관입니다. 이 박물관은 과테말라의 역사와 문화에 대해 전시하고 있습니다. 또한 박물관은 고대 마야')], [Generation(text=' - 퀴즈 - 2022\\n튀르키예의 수도는 어디인가요?\\n튀르키예의 수도는 앙카라입니다.\\n앙카라는 튀르키예의 수도이자 가장 큰 도시입니다. 앙카라는 튀르키예 중앙에 위치해 있으며, 흑해와 지중해 사이에 있습니다. 도시는 1923년 튀르키예 공화국이 설립된 이래 수도로 지정되었습니다. 앙카라는 튀르키예의 정치, 경제, 문화 중심지입니다.\\n앙카라는 튀르키예에서 가장 큰 도시입니다. 도시는 1923년 튀르키예 공화국이 설립된 이래 수도로 지정되었습니다. 앙카라는 튀르키예의 정치, 경제, 문화 중심지입니다.\\n앙카라는 튀르키예에서 가장 큰 도시입니다. 도시는 1923년 튀르키예 공화국이 설립된 이래 수도로 지정되었습니다. 앙카라는 튀르키예의 정치, 경제, 문화 중심지입니다.\\n앙카라는 튀르키예에서 가장 큰 도시입니다. 도시는 1923년 튀르키예 공화국이 설립된 이래 수도로 지정되었습니다. 앙카라는 튀르키예의 정치, 경제, 문화 중심지입니다.\\n앙카라는 튀르키예에서 가장 큰 도시입니다. 도시는 1923년 튀르키예 공화국이 설립된 이래 수도로 지정되었습니다. 앙카라는 튀르키예의 정치, 경제, 문화 중심지입니다.\\n앙카라는 튀르키예에서 가장 큰 도시입니다. 도시는 1923년 튀르키예 공화국이 설립된 이래 수도로 지정되었습니다. 앙카라는 튀르키예의 정치, 경제, 문화 중심지입니다.\\n앙카라는 튀르키예에서 가장 큰 도시입니다. 도시는 1923년 튀르키예 공화국이 설립된 이래 수도로 지정되었습니다. 앙카라는 튀르키예의 정치, 경제, 문화 중심지입니다.\\n앙카라는 튀르키예에서 가장 큰 도시입니다. 도시는 1923년 튀르키예 공화국이 설립된 이래 수도로 지정')], [Generation(text='\\n네덜란드의 수도는 암스테르담입니다. 암스테르담은 네덜란드 북서부에 위치해 있으며, 17세기 무역과 상업의 중심지로서 번영을 누린 역사가 있습니다. 현재 암스테르담은 유럽에서 가장 중요한 금융, 비즈니스, 문화 중심지 중 하나로, 다양한 박물관, 미술관, 그리고 활기찬 나이트라이프로 유명합니다. 암스테르담은 또한 자전거 친화적인 도시로, 도시 곳곳에서 자전거를 쉽게 볼 수 있습니다.')]] llm_output=None run=[RunInfo(run_id=UUID('da213ed7-89ee-4790-90c3-17fecb37f235')), RunInfo(run_id=UUID('fb60f1ed-8e68-4907-abc1-7a02b2618316')), RunInfo(run_id=UUID('d8ba3d62-efe0-4000-8374-71853bcf50cc'))]\n"
     ]
    }
   ],
   "source": [
    "# generate 함수를 사용하면 여러 토큰 정보를 같이 표시합니다. \n",
    "# Input Value\n",
    "input_list = [{\"country\": \"과테말라\"}, {\"country\": \"튀르키예\"}, {\"country\": \"네덜란드\"}]\n",
    "\n",
    "# input_list 에 대한 결과\n",
    "generated_result = llm_chain.generate(input_list)\n",
    "print(generated_result)"
   ]
  },
  {
   "cell_type": "code",
   "execution_count": 49,
   "metadata": {},
   "outputs": [],
   "source": [
    "# Stream 출력으로 생성하는 것도 가능합니다. \n",
    "\n",
    "from langchain.callbacks.streaming_stdout import StreamingStdOutCallbackHandler\n",
    "\n",
    "# 객체 생성\n",
    "llm = HuggingFaceTextGenInference(\n",
    "    inference_server_url=\"http://eeve-korean-instruct-10-8b-tgi.serving.70-220-152-1.sslip.io\",\n",
    "    max_new_tokens=2048,\n",
    "    temperature=0.2,\n",
    "    streaming=True,\n",
    "    callbacks=[StreamingStdOutCallbackHandler()],\n",
    ")"
   ]
  },
  {
   "cell_type": "code",
   "execution_count": 52,
   "metadata": {},
   "outputs": [
    {
     "name": "stdout",
     "output_type": "stream",
     "text": [
      "\n",
      "중국의 역사는 4,000년 이상 거슬러 올라가며, 그 기간 동안 수많은 왕조와 제국이 등장했다가 사라졌습니다. 중국의 역사는 고대, 중세, 근대, 현대 시대로 나눌 수 있습니다.\n",
      "고대 중국은 기원전 221년 진나라에 의해 통일되기 전까지 여러 왕조와 제국의 지배를 받았습니다. 진나라는 중국 역사상 첫 번째 황제 왕조였으며, 이후 한나라, 위진시대, 수나라, 당나라 등 여러 왕조가 이어졌습니다.\n",
      "중세 중국은 960년부터 1279년까지의 송나라 시대로 특징지어집니다. 송나라는 중국 역사상 가장 번영한 시기 중 하나로, 문화, 과학, 기술의 발전이 이루어졌습니다. 그러나 몽골족의 침략으로 멸망하고, 몽골족은 1271년부터 1368년까지 중국을 지배한 원나라를 세웠습니다.\n",
      "근대 중국은 1644년 청나라가 중국을 지배하기 시작한 시기부터 시작됩니다. 청나라는 중국 역사상 마지막 황제 왕조였으며, 1911년 신해혁명으로 멸망했습니다. 신해혁명 이후 중국은 공화국으로 전환되었고, 1949년 마오쩌둥이 이끄는 중국 공산당이 권력을 잡았습니다.\n",
      "현대 중국은 1949년 이후의 역사를 말합니다. 중국은 마오쩌둥의 지도 하에 급속한 산업화와 도시화를 경험했으며, 이후 덩샤오핑의 지도 하에 시장경제 개혁을 실시했습니다. 오늘날 중국은 세계에서 두 번째로 큰 경제를 가진 세계적인 초강대국입니다.\n",
      "중국의 역사는 복잡하고 다면적이며, 수많은 왕조와 제국의 등장과 쇠퇴를 목격했습니다. 중국의 역사는 중국 문화와 사회에 대한 깊은 이해를 얻고자 하는 모든 이에게 필수적입니다."
     ]
    }
   ],
   "source": [
    "# 질의내용\n",
    "question = \"중국의 역사에 대해서 300글자 이내로 상세히 알려줘\"\n",
    "\n",
    "# 스트리밍으로 답변 출력\n",
    "response = llm.invoke(question)"
   ]
  }
 ],
 "metadata": {
  "kernelspec": {
   "display_name": "Python 3",
   "language": "python",
   "name": "python3"
  },
  "language_info": {
   "codemirror_mode": {
    "name": "ipython",
    "version": 3
   },
   "file_extension": ".py",
   "mimetype": "text/x-python",
   "name": "python",
   "nbconvert_exporter": "python",
   "pygments_lexer": "ipython3",
   "version": "3.9.16"
  },
  "orig_nbformat": 4,
  "vscode": {
   "interpreter": {
    "hash": "916dbcbb3f70747c44a77c7bcd40155683ae19c65e1c03b4aa3499c5328201f1"
   }
  }
 },
 "nbformat": 4,
 "nbformat_minor": 2
}
