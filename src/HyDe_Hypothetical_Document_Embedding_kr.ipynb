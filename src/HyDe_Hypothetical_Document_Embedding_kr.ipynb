{
 "cells": [
  {
   "cell_type": "code",
   "execution_count": 1,
   "metadata": {},
   "outputs": [
    {
     "name": "stdout",
     "output_type": "stream",
     "text": [
      "Note: you may need to restart the kernel to use updated packages.\n"
     ]
    }
   ],
   "source": [
    "%pip install -q langchain langchain_community text_generation fitz PyMuPDF frontend rank_bm25 deepeval pypdf faiss-cpu"
   ]
  },
  {
   "cell_type": "code",
   "execution_count": 25,
   "metadata": {},
   "outputs": [],
   "source": [
    "# 아래에서 계속 사용할 LLM을 만들어줍니다. \n",
    "\n",
    "import warnings\n",
    "\n",
    "from langchain_community.llms import HuggingFaceTextGenInference\n",
    "\n",
    "warnings.filterwarnings(\"ignore\")\n",
    "\n",
    "# llama 3-1-70b 모델을 사용합니다.\n",
    "llm = HuggingFaceTextGenInference(\n",
    "    inference_server_url=\"http://meta-llama-3-1-70b-instruct-tgi.serving.70-220-152-1.sslip.io\"\n",
    ")"
   ]
  },
  {
   "cell_type": "markdown",
   "metadata": {},
   "source": [
    "### Import libraries"
   ]
  },
  {
   "cell_type": "code",
   "execution_count": 26,
   "metadata": {},
   "outputs": [],
   "source": [
    "import os\n",
    "import sys\n",
    "\n",
    "#from dotenv import load_dotenv\n",
    "\n",
    "\n",
    "sys.path.append(os.path.abspath(os.path.join(os.getcwd(), '..'))) # Add the parent directory to the path sicnce we work with notebooks\n",
    "# from helper_functions import *\n",
    "\n",
    "# Load environment variables from a .env file\n",
    "# load_dotenv()\n",
    "\n",
    "# Set the OpenAI API key environment variable\n",
    "# 우리는 자체 서빙 LLM을 사용합니다.\n",
    "# os.environ[\"OPENAI_API_KEY\"] = os.getenv('OPENAI_API_KEY')"
   ]
  },
  {
   "cell_type": "code",
   "execution_count": 27,
   "metadata": {},
   "outputs": [],
   "source": [
    "from typing import (List)\n",
    "\n",
    "import requests\n",
    "from langchain_core.embeddings import Embeddings\n",
    "\n",
    "class CustomEmbedding(Embeddings):\n",
    "    def __init__(self):\n",
    "        self.embed_url = 'http://sds-embed.serving.70-220-152-1.sslip.io/v1/models/embed:predict'\n",
    "\n",
    "    def call_embed(self, url, texts):\n",
    "        data = {\n",
    "            \"instances\": texts\n",
    "        }\n",
    "        response = requests.post(url=url, json=data)\n",
    "        result = response.json()\n",
    "        return result['predictions']\n",
    "\n",
    "    def embed_documents(self, texts: List[str]) -> List[List[float]]:\n",
    "        \"\"\"\n",
    "        주어진 텍스트를 임베딩하여 벡터로 반환 합니다.\n",
    "        \"\"\"\n",
    "        embed_list = self.call_embed(url=self.embed_url, texts=texts)\n",
    "        return embed_list\n",
    "\n",
    "    def embed_query(self, text: str) -> List[float]:\n",
    "        \"\"\"Embed query text.\"\"\"\n",
    "\n",
    "        embed_list = self.call_embed(url=self.embed_url, texts=[text])\n",
    "        return embed_list[0]"
   ]
  },
  {
   "cell_type": "markdown",
   "metadata": {},
   "source": [
    "### Define document(s) path"
   ]
  },
  {
   "cell_type": "code",
   "execution_count": 28,
   "metadata": {},
   "outputs": [],
   "source": [
    "path = \"../data/Understanding_Climate_Change.pdf\""
   ]
  },
  {
   "cell_type": "markdown",
   "metadata": {},
   "source": [
    "### Define the HyDe retriever class - creating vector store, generating hypothetical document, and retrieving"
   ]
  },
  {
   "cell_type": "code",
   "execution_count": 29,
   "metadata": {},
   "outputs": [],
   "source": [
    "from langchain.document_loaders import  PyPDFLoader\n",
    "from langchain.text_splitter import RecursiveCharacterTextSplitter\n",
    "from langchain.vectorstores import FAISS\n",
    "from langchain_core.pydantic_v1 import BaseModel, Field\n",
    "from langchain import PromptTemplate\n",
    "import fitz\n",
    "from typing import List\n",
    "from rank_bm25 import BM25Okapi\n",
    "\n",
    "def encode_pdf(path, chunk_size=1000, chunk_overlap=200):\n",
    "    \"\"\"\n",
    "    Encodes a PDF book into a vector store using SDS embeddings.\n",
    "\n",
    "    Args:\n",
    "        path: The path to the PDF file.\n",
    "        chunk_size: The desired size of each text chunk.\n",
    "        chunk_overlap: The amount of overlap between consecutive chunks.\n",
    "\n",
    "    Returns:\n",
    "        A FAISS vector store containing the encoded book content.\n",
    "    \"\"\"\n",
    "\n",
    "    # Load PDF documents\n",
    "    loader = PyPDFLoader(path)\n",
    "    documents = loader.load()\n",
    "\n",
    "    # Split documents into chunks\n",
    "    text_splitter = RecursiveCharacterTextSplitter(\n",
    "        chunk_size=chunk_size, chunk_overlap=chunk_overlap, length_function=len\n",
    "    )\n",
    "    texts = text_splitter.split_documents(documents)\n",
    "    cleaned_texts = replace_t_with_space(texts)\n",
    "\n",
    "    # Create embeddings and vector store\n",
    "    embeddings = CustomEmbedding()\n",
    "    vectorstore = FAISS.from_documents(cleaned_texts, embeddings)\n",
    "\n",
    "    return vectorstore\n",
    "\n",
    "def replace_t_with_space(list_of_documents):\n",
    "    \"\"\"\n",
    "    Replaces all tab characters ('\\t') with spaces in the page content of each document.\n",
    "\n",
    "    Args:\n",
    "        list_of_documents: A list of document objects, each with a 'page_content' attribute.\n",
    "\n",
    "    Returns:\n",
    "        The modified list of documents with tab characters replaced by spaces.\n",
    "    \"\"\"\n",
    "\n",
    "    for doc in list_of_documents:\n",
    "        doc.page_content = doc.page_content.replace('\\t', ' ')  # Replace tabs with spaces\n",
    "    return list_of_documents"
   ]
  },
  {
   "cell_type": "code",
   "execution_count": 51,
   "metadata": {},
   "outputs": [],
   "source": [
    "class HyDERetriever:\n",
    "    def __init__(self, files_path, chunk_size=500, chunk_overlap=100):\n",
    "        self.llm = llm\n",
    "\n",
    "        self.embeddings = CustomEmbedding()\n",
    "        self.chunk_size = chunk_size\n",
    "        self.chunk_overlap = chunk_overlap\n",
    "        self.vectorstore = encode_pdf(files_path, chunk_size=self.chunk_size, chunk_overlap=self.chunk_overlap)\n",
    "    \n",
    "        \n",
    "        self.hyde_prompt = PromptTemplate(\n",
    "            input_variables=[\"query\", \"chunk_size\"],\n",
    "            template=\"\"\"Given the question '{query}', generate a hypothetical document that directly answers this question. The document should be detailed and in-depth.\n",
    "            the document size has be exactly {chunk_size} characters.\"\"\",\n",
    "        )\n",
    "        self.hyde_chain = self.hyde_prompt | self.llm\n",
    "\n",
    "    def generate_hypothetical_document(self, query):\n",
    "        input_variables = {\"query\": query, \"chunk_size\": self.chunk_size}\n",
    "        return self.hyde_chain.invoke(input_variables)\n",
    "\n",
    "    def retrieve(self, query, k=3):\n",
    "        hypothetical_doc = self.generate_hypothetical_document(query)\n",
    "        similar_docs = self.vectorstore.similarity_search(hypothetical_doc, k=k)\n",
    "        return similar_docs, hypothetical_doc\n"
   ]
  },
  {
   "cell_type": "markdown",
   "metadata": {},
   "source": [
    "### Create a HyDe retriever instance"
   ]
  },
  {
   "cell_type": "code",
   "execution_count": 52,
   "metadata": {},
   "outputs": [],
   "source": [
    "retriever = HyDERetriever(path)"
   ]
  },
  {
   "cell_type": "markdown",
   "metadata": {},
   "source": [
    "### Demonstrate on a use case"
   ]
  },
  {
   "cell_type": "code",
   "execution_count": 54,
   "metadata": {},
   "outputs": [],
   "source": [
    "test_query = \"What is the main cause of climate change?\"\n",
    "results, hypothetical_doc = retriever.retrieve(test_query)"
   ]
  },
  {
   "cell_type": "markdown",
   "metadata": {},
   "source": [
    "### Plot the hypothetical document and the retrieved documnets "
   ]
  },
  {
   "cell_type": "code",
   "execution_count": 55,
   "metadata": {},
   "outputs": [],
   "source": [
    "import textwrap\n",
    "\n",
    "def text_wrap(text, width=120):\n",
    "    \"\"\"\n",
    "    Wraps the input text to the specified width.\n",
    "\n",
    "    Args:\n",
    "        text (str): The input text to wrap.\n",
    "        width (int): The width at which to wrap the text.\n",
    "\n",
    "    Returns:\n",
    "        str: The wrapped text.\n",
    "    \"\"\"\n",
    "    return textwrap.fill(text, width=width)\n",
    "\n",
    "def show_context(context):\n",
    "    \"\"\"\n",
    "    Display the contents of the provided context list.\n",
    "\n",
    "    Args:\n",
    "        context (list): A list of context items to be displayed.\n",
    "\n",
    "    Prints each context item in the list with a heading indicating its position.\n",
    "    \"\"\"\n",
    "    for i, c in enumerate(context):\n",
    "        print(f\"Context {i+1}:\")\n",
    "        print(c)\n",
    "        print(\"\\n\")"
   ]
  },
  {
   "cell_type": "code",
   "execution_count": 56,
   "metadata": {},
   "outputs": [
    {
     "name": "stdout",
     "output_type": "stream",
     "text": [
      "hypothetical_doc:\n",
      "\n",
      " Here is the document: **The Main Cause of Climate Change: A Scientific Consensus**  The overwhelming scientific\n",
      "consensus is that human activities, particularly the emission of greenhouse gases (GHGs) from burning fossil fuels,\n",
      "deforestation, and land-use changes, are the primary cause of climate change. The evidence is clear: the concentration\n",
      "of carbon dioxide (CO2), the most prevalent GHG, has increased by approximately 40% since the Industrial Revolution,\n",
      "primarily due to fossil fuel combustion and land-use changes. The resulting global warming is melting polar ice caps,\n",
      "raising sea levels, and altering weather patterns, with devastating consequences for ecosystems, human health, and the\n",
      "economy. The scientific consensus is clear: human-induced climate change is real, and urgent action is necessary to\n",
      "mitigate its effects.\n",
      "\n",
      "Context 1:\n",
      "predict future trends. The evidence overwhelmingly shows that recent changes are primarily \n",
      "driven by human activities, particularly the emission of greenhou se gases.  \n",
      "Chapter 2: Causes of Climate Change  \n",
      "Greenhouse Gases  \n",
      "The primary cause of recent climate change is the increase in greenhouse gases in the \n",
      "atmosphere. Greenhouse gases, such as carbon dioxide (CO2), methane (CH4), and nitrous \n",
      "oxide (N2O), trap heat from the sun, creating a \"greenhouse effect.\" This effect is  essential\n",
      "\n",
      "\n",
      "Context 2:\n",
      "Understanding Climate Change  \n",
      "Chapter 1: Introduction to Climate Change  \n",
      "Climate change refers to significant, long -term changes in the global climate. The term \n",
      "\"global climate\" encompasses the planet's overall weather patterns, including temperature, \n",
      "precipitation, and wind patterns, over an extended period. Over the past cent ury, human \n",
      "activities, particularly the burning of fossil fuels and deforestation, have significantly \n",
      "contributed to climate change.  \n",
      "Historical Context\n",
      "\n",
      "\n",
      "Context 3:\n",
      "oxide (N2O), trap heat from the sun, creating a \"greenhouse effect.\" This effect is  essential \n",
      "for life on Earth, as it keeps the planet warm enough to support life. However, human \n",
      "activities have intensified this natural process, leading to a warmer climate.  \n",
      "Fossil Fuels  \n",
      "Burning fossil fuels for energy releases large amounts of CO2. This includes coal, oil, and \n",
      "natural gas used for electricity, heating, and transportation. The industrial revolution marked\n",
      "\n",
      "\n"
     ]
    }
   ],
   "source": [
    "docs_content = [doc.page_content for doc in results]\n",
    "\n",
    "print(\"hypothetical_doc:\\n\")\n",
    "print(text_wrap(hypothetical_doc)+\"\\n\")\n",
    "show_context(docs_content)"
   ]
  },
  {
   "cell_type": "code",
   "execution_count": 61,
   "metadata": {},
   "outputs": [],
   "source": [
    "test_query = \"What is the Effects of Climate Change?\"\n",
    "results, hypothetical_doc = retriever.retrieve(test_query)"
   ]
  },
  {
   "cell_type": "code",
   "execution_count": 62,
   "metadata": {},
   "outputs": [
    {
     "name": "stdout",
     "output_type": "stream",
     "text": [
      "hypothetical_doc:\n",
      "\n",
      " Here is the document:               The Effects of Climate Change               Rising global temperatures are altering\n",
      "ecosystems, disrupting food production, and increasing extreme weather events. Warmer oceans are causing sea-level rise,\n",
      "coastal erosion, and loss of marine biodiversity. Climate change also exacerbates water scarcity, heat stress, and\n",
      "respiratory issues. Increased frequency and severity of natural disasters, such as hurricanes, wildfires, and floods,\n",
      "threaten human settlements and economies. Furthermore, climate change impacts human migration, social stability, and\n",
      "mental health. Adaptation and mitigation strategies are essential to minimize these effects and ensure a sustainable\n",
      "future.               Document size: 500 characters.\n",
      "\n",
      "Context 1:\n",
      "managed retreats.  \n",
      "Extreme Weather Events  \n",
      "Climate change is linked to an increase in the frequency and severity of extreme weather \n",
      "events, such as hurricanes, heatwaves, droughts, and heavy rainfall. These events can have \n",
      "devastating impacts on communities, economies, and ecosystems.  \n",
      "Hurricanes and Typhoons  \n",
      "Warmer ocean temperatures can intensify hurricanes and typhoons, leading to more \n",
      "destructive storms. Coastal regions are at heightened risk of storm surge and flooding. Early\n",
      "\n",
      "\n",
      "Context 2:\n",
      "and infrastructure. Cities are particularly vulnerable due to the \"urban heat island\" effect. \n",
      "Heatwaves can lead to heat -related illnesses and exacerbate existing h ealth conditions.  \n",
      "Changing Seasons  \n",
      "Climate change is altering the timing and length of seasons, affecting ecosystems and human \n",
      "activities. For example, spring is arriving earlier, and winters are becoming shorter and \n",
      "milder in many regions. This shift disrupts plant and animal life cycles a nd agricultural \n",
      "practices.\n",
      "\n",
      "\n",
      "Context 3:\n",
      "Climate change is altering terrestrial ecosystems by shifting habitat ranges, changing species \n",
      "distributions, and impacting ecosystem functions. Forests, grasslands, and deserts are \n",
      "experiencing shifts in plant and animal species composition. These changes  can lead to a loss \n",
      "of biodiversity and disrupt ecological balance.  \n",
      "Marine Ecosystems  \n",
      "Marine ecosystems are highly vulnerable to climate change. Rising sea temperatures, ocean\n",
      "\n",
      "\n"
     ]
    }
   ],
   "source": [
    "docs_content = [doc.page_content for doc in results]\n",
    "\n",
    "print(\"hypothetical_doc:\\n\")\n",
    "print(text_wrap(hypothetical_doc)+\"\\n\")\n",
    "show_context(docs_content)"
   ]
  },
  {
   "attachments": {},
   "cell_type": "markdown",
   "metadata": {},
   "source": [
    "### Hypothetical Document Embedding (HyDE) in Document Retrieval\n",
    "\n",
    "(출처 : https://github.com/NirDiamant ) \n",
    "\n",
    "### 개요\n",
    "\n",
    "이 코드는 문서 검색을 위한 가설 문서 임베딩(HyDE) 시스템을 구현합니다. HyDE는 벡터 공간에서 쿼리 질문을 가설 문서로 변환하여 쿼리와 문서 분포 간의 격차를 줄이는 혁신적인 접근 방식입니다.\n",
    "\n",
    "### 필요성\n",
    "\n",
    "기존의 검색 방법은 쿼리와 문서 간의 의미적 격차로 인해 어려움을 겪고 있습니다. HyDE는 쿼리를 전체 문서로 확장하여 벡터 공간에서 쿼리 표현을 문서 표현과 더욱 유사하게 만들 수 있습니다.\n",
    "\n",
    "### 주요 구성 요소\n",
    "\n",
    "1. PDF 처리 및 텍스트 청크 생성\n",
    "2. FAISS 및 OpenAI 임베딩을 사용한 벡터 저장소 생성\n",
    "3. 언어 모델을 사용한 가설 문서 생성\n",
    "4. HyDE 기술을 구현하는 사용자 지정 HyDERetriever 클래스\n",
    "\n",
    "### 방법 세부 정보\n",
    "\n",
    "#### 문서 전처리 및 벡터 저장소 생성\n",
    "\n",
    "1. PDF를 처리하고 청크로 분할합니다.\n",
    "2. FAISS 벡터 저장소를 생성하여 효율적인 유사성 검색을 수행할 수 있습니다.\n",
    "\n",
    "#### 가설 문서 생성\n",
    "\n",
    "1. 언어 모델(GPT-4)을을 사용하여 쿼리에 대답하는 가설 문서를 생성합니다.\n",
    "2. 생성은 청크 크기에 맞게 설계된 프롬프트 템플릿으로 안내됩니다.\n",
    "\n",
    "#### 검색 프로세스\n",
    "\n",
    "The `HyDERetriever` 클래스는 다음 단계를 구현합니다. :\n",
    "\n",
    "1. 언어 모델을 사용하여 쿼리에서 가설 문서를 생성합니다.\n",
    "2. 가설 문서를 벡터 저장소에서 검색 쿼리로 사용합니다.\n",
    "3. 가장 유사한 문서를 검색 결과로 반환합니다.\n",
    "\n",
    "### 주요 기능\n",
    "\n",
    "1. 쿼리 확장: 짧은 쿼리를 전체 가설 문서로 변환합니다. \n",
    "2. 유연한 구성: 청크 크기, 중복, 검색 결과 문서 수를 조정할 수 있습니다. \n",
    "3. OpenAI 모델 통합: GPT-4를 사용하여 가설 문서를 생성하고 OpenAI 임베딩을 사용하여 벡터 표현을 생성합니다. \n",
    "\n",
    "### 이 접근법의 장점\n",
    "\n",
    "1. 개선된 관련성: 쿼리를 전체 문서로 확장하면 더욱 세밀한 관련성을 캡처할 수 있습니다. \n",
    "2. 복잡한 쿼리 처리: 복잡한 또는 다면적 쿼리의 직접적인 매칭을 어렵게 만드는 경우에 유용합니다. \n",
    "3. 적응성: 가설 문서 생성은 다양한 유형의 쿼리와 문서 도메인에 적응할 수 있습니다. \n",
    "4. 문맥 이해 개선: 확장된 쿼리는 원래 질문의 의도와 문맥을 더 잘 캡처할 수 있습니다.\n",
    "\n",
    "### 구현 세부 정보\n",
    "\n",
    "1. OpenAI의 ChatGPT 모델을 사용하여 가설 문서를 생성합니다. \n",
    "2. FAISS를 사용하여 벡터 공간에서 효율적인 유사성 검색을 수행합니다. \n",
    "3. 가설 문서와 검색 결과를 쉽게 시각화할 수 있습니다.\n",
    "\n",
    "### 결론 \n",
    "\n",
    "가설 문서 임베딩(HyDE)은 문서 검색 분야에서 혁신적인 접근 방식으로, 쿼리와 문서 간의 의미적 격차를 해소하기 위해 고급 언어 모델을 활용하여 쿼리를 가설 문서로 확장함으로써 복잡한 또는 미묘한 쿼리의 경우에도 검색 관련성을 크게 개선할 가능성이 있습니다. 이러한 기술은 법률 연구, 학술 문헌 검토 또는 고급 정보 검색 시스템과 같이 쿼리 의도 및 컨텍스트를 이해하는 것이 중요한 분야에서 특히 유용할 수 있습니다."
   ]
  },
  {
   "attachments": {},
   "cell_type": "markdown",
   "metadata": {},
   "source": [
    "<div style=\"text-align: center;\">\n",
    "\n",
    "<img src=\"../images/HyDe.svg\" alt=\"HyDe\" style=\"width:40%; height:auto;\">\n",
    "</div>"
   ]
  }
 ],
 "metadata": {
  "kernelspec": {
   "display_name": "Python 3",
   "language": "python",
   "name": "python3"
  },
  "language_info": {
   "codemirror_mode": {
    "name": "ipython",
    "version": 3
   },
   "file_extension": ".py",
   "mimetype": "text/x-python",
   "name": "python",
   "nbconvert_exporter": "python",
   "pygments_lexer": "ipython3",
   "version": "3.9.16"
  },
  "vscode": {
   "interpreter": {
    "hash": "916dbcbb3f70747c44a77c7bcd40155683ae19c65e1c03b4aa3499c5328201f1"
   }
  }
 },
 "nbformat": 4,
 "nbformat_minor": 2
}
