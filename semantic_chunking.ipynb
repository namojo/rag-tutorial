{
 "cells": [
  {
   "attachments": {},
   "cell_type": "markdown",
   "metadata": {},
   "source": [
    "# 문서 처리를 위한 의미적 분할 (Semantic Chunking)\n",
    "\n",
    "## 개요\n",
    "\n",
    "이 코드는 PDF 문서를 처리하고 정보를 검색하기 위한 의미적 분할 접근법을 구현합니다. 고정된 문자 또는 단어 수에 따라 텍스트를 분할하는 기존의 방법과는 달리, 의미적 분할은 더 유의미하고 맥락에 맞는 텍스트 세그먼트를 만드는 것을 목표로 합니다.\n",
    "\n",
    "## 필요성\n",
    "\n",
    "기존의 텍스트 분할 방법은 종종 임의의 지점에서 텍스트를 분할하여 정보와 맥락의 흐름을 방해할 가능성이 있습니다. 이러한 문제를 해결하기 위해 의미적 분할은 더 자연스러운 구분점에서 텍스트를 분할하려고 시도하며 각 청크 내에서 의미론적 일관성을 유지합니다.\n",
    "\n",
    "## 주요 구성 요소\n",
    "\n",
    "1. PDF 처리 및 텍스트 추출\n",
    "2. LangChain의 SemanticChunker를 사용한 의미적 분할\n",
    "3. FAISS 및 SDS 임베딩을 사용하여 벡터 저장소 만들기\n",
    "4. 처리된 문서를 쿼리하기 위한 검색기 설정\n",
    "\n",
    "## 방법 세부 정보\n",
    "\n",
    "### 문서 전처리\n",
    "\n",
    "1. PDF가 읽히고 사용자 지정 `read_pdf_to_string` 함수를 사용하여 문자열로 변환됩니다.\n",
    "\n",
    "### 의미적 분할 (Semantic Chunking)\n",
    "\n",
    "1. SDS 임베딩을 사용하는 LangChain의 `SemanticChunker`를 활용합니다.\n",
    "2. 3가지 유형의 분할점이 제공됩니다.\n",
    "   - '백분위수': X 백분위수보다 큰 차이에서 분할합니다.\n",
    "   - '표준편차': X 표준 편차 이상에서 분할합니다.\n",
    "   - '사분위간 거리'를 사용하여 분할 지점을 결정합니다.\n",
    "3. 이 구현에서는 90의 임계값과 함께 '백분위수' 방법이 사용됩니다.\n",
    "\n",
    "### 벡터 스토어 만들기\n",
    "\n",
    "1. SDS 임베딩은 의미적 청크의 벡터 표현을 만드는 데 사용됩니다.\n",
    "2. 효율적인 유사도 검색을 위해 이러한 임베딩으로 FAISS 벡터 저장소를 만듭니다.\n",
    "\n",
    "### 검색기 설정\n",
    "\n",
    "1. 주어진 쿼리에 대해 가장 관련성이 높은 청크 상위 2개를 가져오도록 검색기가 구성됩니다.\n",
    "\n",
    "## 주요 기능\n",
    "\n",
    "1. 맥락 인식 분할: 청크 내에 완전한 생각이나 아이디어를 포함하도록 노력합니다.\n",
    "2. 유연한 구성: 다른 분기점 유형과 임계값을 사용할 수 있습니다.\n",
    "3. 고급 NLP 도구와의 통합: 의미적 분할 및 검색 모두에 SDS 임베딩을 사용합니다.\n",
    "\n",
    "## 이 접근법의 이점\n",
    "\n",
    "1. 향상된 일관성: 청크는 보다 완전하고 논리적인 생각을 포함할 가능성이 높습니다.\n",
    "2. 더 나은 검색 정확도: 맥락을 보존함으로써 검색 정확도가 향상될 수 있습니다.\n",
    "3. 적응성: 문서의 특성과 검색 요구 사항에 따라 분할 방법을 조정할 수 있습니다.\n",
    "4. 잠재적으로 더 나은 이해: 더 일관성 있는 텍스트 세그먼트가 있으면 LLM 또는 다운스트림 작업이 더 잘 수행될 수 있습니다.\n",
    "\n",
    "## 구현 세부 정보\n",
    "\n",
    "1. Semantic Chunking 프로세스와 최종 벡터 표현 모두에 SDS의 임베딩을 사용합니다.\n",
    "2. 효율적인 검색 가능한 인덱스를 만들기 위해 FAISS를 사용합니다.\n",
    "3. 검색기는 필요에 따라 조정할 수 있는 가장 관련성이 높은 청크 상위 2개를 반환하도록 설정되어 있습니다.\n",
    "\n",
    "## 예시 사용법\n",
    "\n",
    "코드에는 \"기후 변화의 주요 원인은 무엇입니까?\"라는 테스트 쿼리가 포함되어 있습니다. 이것은 처리된 문서에서 관련 정보를 찾는 데 의미적 분할 및 검색 시스템이 어떻게 사용될 수 있는지를 보여줍니다.\n",
    "\n",
    "## 결론\n",
    "\n",
    "Semantic Chunking은 검색 시스템에 대한 문서 처리의 고급 접근 방식을 나타냅니다. 텍스트 세그먼트 내에서 의미론적 일관성을 유지하려고 시도함으로써 검색된 정보의 품질을 개선하고 다운스트림 NLP 작업의 성능을 높일 수 있는 잠재력이 있습니다. 이 기법은 과학적 논문, 법률 문서 또는 종합 보고서처럼 맥락 유지가 중요한 긴 복잡한 문서를 처리하는 데 특히 유용합니다."
   ]
  },
  {
   "cell_type": "markdown",
   "metadata": {},
   "source": [
    "### Import libraries "
   ]
  },
  {
   "cell_type": "code",
   "execution_count": 1,
   "metadata": {},
   "outputs": [
    {
     "name": "stdout",
     "output_type": "stream",
     "text": [
      "Note: you may need to restart the kernel to use updated packages.\n"
     ]
    }
   ],
   "source": [
    "%pip install -qU langchain_experimental sentence_transformers langchain_community text_generation fitz PyMuPDF faiss-cpu"
   ]
  },
  {
   "cell_type": "code",
   "execution_count": 2,
   "metadata": {},
   "outputs": [],
   "source": [
    "import os\n",
    "import sys\n",
    "\n",
    "sys.path.append(os.path.abspath(os.path.join(os.getcwd(), '..'))) # Add the parent directory to the path sicnce we work with notebooks\n",
    "\n",
    "from langchain_experimental.text_splitter import SemanticChunker\n",
    "from helper_functions import *"
   ]
  },
  {
   "cell_type": "markdown",
   "metadata": {},
   "source": [
    "### Define file path"
   ]
  },
  {
   "cell_type": "code",
   "execution_count": 3,
   "metadata": {},
   "outputs": [],
   "source": [
    "path = \"../data/Understanding_Climate_Change.pdf\""
   ]
  },
  {
   "cell_type": "markdown",
   "metadata": {},
   "source": [
    "### Read PDF to string"
   ]
  },
  {
   "cell_type": "code",
   "execution_count": 4,
   "metadata": {},
   "outputs": [],
   "source": [
    "content = read_pdf_to_string(path)"
   ]
  },
  {
   "cell_type": "markdown",
   "metadata": {},
   "source": [
    "### Breakpoint types: \n",
    "* 'percentile': all differences between sentences are calculated, and then any difference greater than the X percentile is split.\n",
    "* 'standard_deviation': any difference greater than X standard deviations is split.\n",
    "* 'interquartile': the interquartile distance is used to split chunks."
   ]
  },
  {
   "cell_type": "code",
   "execution_count": 5,
   "metadata": {},
   "outputs": [],
   "source": [
    "from typing import (List)\n",
    "\n",
    "import requests\n",
    "from langchain_core.embeddings import Embeddings\n",
    "\n",
    "class CustomEmbedding(Embeddings):\n",
    "    def __init__(self):\n",
    "        self.embed_url = 'http://sds-embed.serving.70-220-152-1.sslip.io/v1/models/embed:predict'\n",
    "\n",
    "    def call_embed(self, url, texts):\n",
    "        data = {\n",
    "            \"instances\": texts\n",
    "        }\n",
    "        response = requests.post(url=url, json=data)\n",
    "        result = response.json()\n",
    "        return result['predictions']\n",
    "\n",
    "    def embed_documents(self, texts: List[str]) -> List[List[float]]:\n",
    "        \"\"\"\n",
    "        주어진 텍스트를 임베딩하여 벡터로 반환 합니다.\n",
    "        \"\"\"\n",
    "        embed_list = self.call_embed(url=self.embed_url, texts=texts)\n",
    "        return embed_list\n",
    "\n",
    "    def embed_query(self, text: str) -> List[float]:\n",
    "        \"\"\"Embed query text.\"\"\"\n",
    "\n",
    "        embed_list = self.call_embed(url=self.embed_url, texts=[text])\n",
    "        return embed_list[0]"
   ]
  },
  {
   "cell_type": "code",
   "execution_count": 6,
   "metadata": {},
   "outputs": [],
   "source": [
    "text_splitter = SemanticChunker(CustomEmbedding(), breakpoint_threshold_type='percentile', breakpoint_threshold_amount=90) # chose which embeddings and breakpoint type and threshold to use"
   ]
  },
  {
   "cell_type": "markdown",
   "metadata": {},
   "source": [
    "### Split original text to semantic chunks"
   ]
  },
  {
   "cell_type": "code",
   "execution_count": 7,
   "metadata": {},
   "outputs": [],
   "source": [
    "docs = text_splitter.create_documents([content])"
   ]
  },
  {
   "cell_type": "markdown",
   "metadata": {},
   "source": [
    "### Create vector store and retriever"
   ]
  },
  {
   "cell_type": "code",
   "execution_count": 8,
   "metadata": {},
   "outputs": [],
   "source": [
    "from langchain.vectorstores import FAISS\n",
    "\n",
    "embeddings = CustomEmbedding()\n",
    "vectorstore = FAISS.from_documents(docs, embeddings)\n",
    "chunks_query_retriever = vectorstore.as_retriever(search_kwargs={\"k\": 2})"
   ]
  },
  {
   "cell_type": "markdown",
   "metadata": {},
   "source": [
    "### Test the retriever"
   ]
  },
  {
   "cell_type": "code",
   "execution_count": 9,
   "metadata": {},
   "outputs": [
    {
     "name": "stdout",
     "output_type": "stream",
     "text": [
      "Context 1:\n",
      "Understanding Climate Change \n",
      "Chapter 1: Introduction to Climate Change \n",
      "Climate change refers to significant, long-term changes in the global climate. The term \n",
      "\"global climate\" encompasses the planet's overall weather patterns, including temperature, \n",
      "precipitation, and wind patterns, over an extended period. Over the past century, human \n",
      "activities, particularly the burning of fossil fuels and deforestation, have significantly \n",
      "contributed to climate change. Historical Context \n",
      "The Earth's climate has changed throughout history. Over the past 650,000 years, there have \n",
      "been seven cycles of glacial advance and retreat, with the abrupt end of the last ice age about \n",
      "11,700 years ago marking the beginning of the modern climate era and human civilization. Most of these climate changes are attributed to very small variations in Earth's orbit that \n",
      "change the amount of solar energy our planet receives. During the Holocene epoch, which \n",
      "began at the end of the last ice age, human societies flourished, but the industrial era has seen \n",
      "unprecedented changes. Modern Observations \n",
      "Modern scientific observations indicate a rapid increase in global temperatures, sea levels, \n",
      "and extreme weather events. The Intergovernmental Panel on Climate Change (IPCC) has \n",
      "documented these changes extensively. Ice core samples, tree rings, and ocean sediments \n",
      "provide a historical record that scientists use to understand past climate conditions and \n",
      "predict future trends. The evidence overwhelmingly shows that recent changes are primarily \n",
      "driven by human activities, particularly the emission of greenhouse gases. Chapter 2: Causes of Climate Change \n",
      "Greenhouse Gases \n",
      "The primary cause of recent climate change is the increase in greenhouse gases in the \n",
      "atmosphere. Greenhouse gases, such as carbon dioxide (CO2), methane (CH4), and nitrous \n",
      "oxide (N2O), trap heat from the sun, creating a \"greenhouse effect.\" This effect is essential \n",
      "for life on Earth, as it keeps the planet warm enough to support life. However, human \n",
      "activities have intensified this natural process, leading to a warmer climate. Fossil Fuels \n",
      "Burning fossil fuels for energy releases large amounts of CO2. This includes coal, oil, and \n",
      "natural gas used for electricity, heating, and transportation. The industrial revolution marked \n",
      "the beginning of a significant increase in fossil fuel consumption, which continues to rise \n",
      "today. Coal \n",
      "Coal is the most carbon-intensive fossil fuel, and its use for electricity generation is a major \n",
      "source of CO2 emissions. Despite a decline in some regions, coal remains a significant \n",
      "energy source globally. It is mined extensively in countries like China, India, and the United \n",
      "States, contributing significantly to their energy supplies and CO2 footprints. Oil \n",
      "Oil is used primarily for transportation fuels, such as gasoline and diesel. The combustion of \n",
      "oil products releases significant amounts of CO2 and other pollutants, contributing to climate \n",
      "change and air quality issues. The global oil industry is vast, involving extraction, refining, \n",
      "and distribution, with significant geopolitical and economic implications. Natural Gas \n",
      "Natural gas is the least carbon-intensive fossil fuel and is often seen as a \"bridge fuel\" to a \n",
      "lower-carbon future. However, its extraction and use still contribute to greenhouse gas \n",
      "emissions, particularly methane, which is a potent greenhouse gas.\n",
      "\n",
      "\n",
      "Context 2:\n",
      "The \n",
      "development of eco-friendly fertilizers and farming techniques is essential for reducing the \n",
      "agricultural sector's carbon footprint. Chapter 3: Effects of Climate Change \n",
      "The effects of climate change are already being felt around the world and are projected to \n",
      "intensify in the coming decades. These effects include: \n",
      "Rising Temperatures \n",
      "Global temperatures have risen by about 1.2 degrees Celsius (2.2 degrees Fahrenheit) since \n",
      "the late 19th century. This warming is not uniform, with some regions experiencing more \n",
      "significant increases than others. Heatwaves \n",
      "Heatwaves are becoming more frequent and severe, posing risks to human health, agriculture, \n",
      "and infrastructure. Cities are particularly vulnerable due to the \"urban heat island\" effect. Heatwaves can lead to heat-related illnesses and exacerbate existing health conditions. Changing Seasons \n",
      "Climate change is altering the timing and length of seasons, affecting ecosystems and human \n",
      "activities. For example, spring is arriving earlier, and winters are becoming shorter and \n",
      "milder in many regions. This shift disrupts plant and animal life cycles and agricultural \n",
      "practices. Melting Ice and Rising Sea Levels \n",
      "Warmer temperatures are causing polar ice caps and glaciers to melt, contributing to rising \n",
      "sea levels. Sea levels have risen by about 20 centimeters (8 inches) in the past century, \n",
      "threatening coastal communities and ecosystems. Polar Ice Melt \n",
      "The Arctic is warming at more than twice the global average rate, leading to significant ice \n",
      "loss. Antarctic ice sheets are also losing mass, contributing to sea level rise. This melting \n",
      "affects global ocean currents and weather patterns. Glacial Retreat \n",
      "Glaciers around the world are retreating, affecting water supplies for millions of people. Regions dependent on glacial meltwater, such as the Himalayas and the Andes, face \n",
      "particular risks. Glacial melt also impacts hydropower generation and agriculture. Coastal Erosion \n",
      "Rising sea levels and increased storm surges are accelerating coastal erosion, threatening \n",
      "homes, infrastructure, and ecosystems. Low-lying islands and coastal regions are especially \n",
      "vulnerable. Coastal communities must invest in adaptation measures like sea walls and \n",
      "managed retreats. Extreme Weather Events \n",
      "Climate change is linked to an increase in the frequency and severity of extreme weather \n",
      "events, such as hurricanes, heatwaves, droughts, and heavy rainfall. These events can have \n",
      "devastating impacts on communities, economies, and ecosystems. Hurricanes and Typhoons \n",
      "Warmer ocean temperatures can intensify hurricanes and typhoons, leading to more \n",
      "destructive storms. Coastal regions are at heightened risk of storm surge and flooding. Early \n",
      "warning systems and resilient infrastructure are critical for mitigating these risks. Droughts \n",
      "Increased temperatures and changing precipitation patterns are contributing to more frequent \n",
      "and severe droughts. This affects agriculture, water supply, and ecosystems, particularly in \n",
      "arid and semi-arid regions. Droughts can lead to food and water shortages and exacerbate \n",
      "conflicts. Flooding \n",
      "Heavy rainfall events are becoming more common, leading to increased flooding.\n",
      "\n",
      "\n"
     ]
    },
    {
     "name": "stderr",
     "output_type": "stream",
     "text": [
      "/home/user/.local/lib/python3.9/site-packages/langchain_core/_api/deprecation.py:141: LangChainDeprecationWarning: The method `BaseRetriever.get_relevant_documents` was deprecated in langchain-core 0.1.46 and will be removed in 1.0. Use invoke instead.\n",
      "  warn_deprecated(\n"
     ]
    }
   ],
   "source": [
    "test_query = \"What is the main cause of climate change?\"\n",
    "context = retrieve_context_per_question(test_query, chunks_query_retriever)\n",
    "show_context(context)"
   ]
  }
 ],
 "metadata": {
  "kernelspec": {
   "display_name": "Python 3",
   "language": "python",
   "name": "python3"
  },
  "language_info": {
   "codemirror_mode": {
    "name": "ipython",
    "version": 3
   },
   "file_extension": ".py",
   "mimetype": "text/x-python",
   "name": "python",
   "nbconvert_exporter": "python",
   "pygments_lexer": "ipython3",
   "version": "3.9.16"
  },
  "vscode": {
   "interpreter": {
    "hash": "916dbcbb3f70747c44a77c7bcd40155683ae19c65e1c03b4aa3499c5328201f1"
   }
  }
 },
 "nbformat": 4,
 "nbformat_minor": 2
}
